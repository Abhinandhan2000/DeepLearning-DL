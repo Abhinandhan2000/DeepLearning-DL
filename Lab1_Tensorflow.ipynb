{
 "cells": [
  {
   "cell_type": "code",
   "execution_count": 4,
   "id": "c3126fa7",
   "metadata": {},
   "outputs": [
    {
     "name": "stdout",
     "output_type": "stream",
     "text": [
      "tf.Tensor([15 24 13 48], shape=(4,), dtype=int32)\n",
      "tf.Tensor([ 5 12 -1 32], shape=(4,), dtype=int32)\n",
      "tf.Tensor([ 50 108  42 320], shape=(4,), dtype=int32)\n",
      "tf.Tensor([2.         3.         0.85714286 5.        ], shape=(4,), dtype=float64)\n",
      "Enter your name: A\n",
      "A\n",
      "Enter your USN: 45\n",
      "45\n"
     ]
    }
   ],
   "source": [
    "import tensorflow as tf\n",
    "# Initialize two constants\n",
    "x1 = tf.constant([10,18,6,40])\n",
    "x2 = tf.constant([5,6,7,8])\n",
    "\n",
    "# basic math operations\n",
    "a=tf.add(x1,x2)\n",
    "b=tf.subtract(x1,x2)\n",
    "c=tf.multiply(x1,x2)\n",
    "d=tf.divide(x1,x2)\n",
    "\n",
    "# Print the result\n",
    "print(a)\n",
    "print(b)\n",
    "print(c)\n",
    "print(d)\n",
    "# print the name and USN number\n",
    "name = input(\"Enter your name: \")\n",
    "print(name)\n",
    "USN = input(\"Enter your USN: \")\n",
    "print(USN)"
   ]
  },
  {
   "cell_type": "code",
   "execution_count": null,
   "id": "ccafde55",
   "metadata": {},
   "outputs": [],
   "source": []
  }
 ],
 "metadata": {
  "kernelspec": {
   "display_name": "Python 3 (ipykernel)",
   "language": "python",
   "name": "python3"
  },
  "language_info": {
   "codemirror_mode": {
    "name": "ipython",
    "version": 3
   },
   "file_extension": ".py",
   "mimetype": "text/x-python",
   "name": "python",
   "nbconvert_exporter": "python",
   "pygments_lexer": "ipython3",
   "version": "3.8.11"
  }
 },
 "nbformat": 4,
 "nbformat_minor": 5
}
